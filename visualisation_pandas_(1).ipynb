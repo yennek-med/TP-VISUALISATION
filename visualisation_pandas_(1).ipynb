{
  "cells": [
    {
      "cell_type": "markdown",
      "metadata": {
        "id": "view-in-github",
        "colab_type": "text"
      },
      "source": [
        "<a href=\"https://colab.research.google.com/github/yennek-med/TP-VISUALISATION/blob/main/visualisation_pandas_(1).ipynb\" target=\"_parent\"><img src=\"https://colab.research.google.com/assets/colab-badge.svg\" alt=\"Open In Colab\"/></a>"
      ]
    },
    {
      "cell_type": "markdown",
      "id": "da9785d0-a5a0-4357-84e9-fc0e82625dd7",
      "metadata": {
        "id": "da9785d0-a5a0-4357-84e9-fc0e82625dd7"
      },
      "source": [
        "Exercice 1 : Creating and Modifying Series"
      ]
    },
    {
      "cell_type": "code",
      "execution_count": null,
      "id": "82bad035-0eec-4182-a617-88bdfcf0d7ae",
      "metadata": {
        "colab": {
          "base_uri": "https://localhost:8080/"
        },
        "id": "82bad035-0eec-4182-a617-88bdfcf0d7ae",
        "outputId": "062470f2-d75f-4408-ad65-771c3091497d"
      },
      "outputs": [
        {
          "output_type": "stream",
          "name": "stdout",
          "text": [
            "la serie initial  modifications\n",
            "a    100\n",
            "b    200\n",
            "c    300\n",
            "dtype: int64\n",
            "la serie apres modifications\n",
            "a    100\n",
            "b    250\n",
            "c    300\n",
            "d    400\n",
            "dtype: int64\n"
          ]
        }
      ],
      "source": [
        "import pandas as pd\n",
        "\n",
        "# Création de la Series à partir du  dictionnaire deja donne\n",
        "serie_exo1 = pd.Series({'a': 100, 'b': 200, 'c': 300})\n",
        "print('la serie initial  modifications')\n",
        "print(serie_exo1)\n",
        "\n",
        "# Modifier la serie\n",
        "# Ajouter un nouvel élément\n",
        "serie_exo1['d'] = 400\n",
        "\n",
        "# Modification de la valeur associée à 'b' (de 200 à 250)\n",
        "serie_exo1['b'] = 250\n",
        "\n",
        "print('la serie apres modifications')\n",
        "print(serie_exo1)\n",
        "\n"
      ]
    },
    {
      "cell_type": "markdown",
      "id": "d39a51a1-3422-4202-8830-198c2d33d8ee",
      "metadata": {
        "id": "d39a51a1-3422-4202-8830-198c2d33d8ee"
      },
      "source": [
        "Exercice 2 : Creating DataFrames"
      ]
    },
    {
      "cell_type": "code",
      "execution_count": null,
      "id": "2df5a696-3fbe-4093-bd3b-755e866f8cca",
      "metadata": {
        "id": "2df5a696-3fbe-4093-bd3b-755e866f8cca",
        "outputId": "cb3c87a7-2caf-4111-9915-236874398f33"
      },
      "outputs": [
        {
          "name": "stdout",
          "output_type": "stream",
          "text": [
            "DataFrame Initial :\n",
            "   A  B  C\n",
            "0  1  2  3\n",
            "1  4  5  6\n",
            "2  7  8  9\n",
            "\n",
            "DataFrame Modifié :\n",
            "   A  C   D\n",
            "0  1  3  10\n",
            "1  4  6  11\n",
            "2  7  9  12\n"
          ]
        }
      ],
      "source": [
        "import pandas as pd\n",
        "\n",
        "# Création du DataFrame initial avant modification\n",
        "df_initial = pd.DataFrame({\n",
        "    'A': [1, 4, 7],\n",
        "    'B': [2, 5, 8],\n",
        "    'C': [3, 6, 9]\n",
        "})\n",
        "\n",
        "# Affichage du DataFrame initial\n",
        "print(\"DataFrame Initial :\")\n",
        "print(df_initial)\n",
        "\n",
        "# Copie du DataFrame pour modification\n",
        "df_modifie = df_initial.copy()\n",
        "\n",
        "# Ajout de la colonne 'D' avec les valeurs [10, 11, 12]\n",
        "df_modifie['D'] = [10, 11, 12]\n",
        "\n",
        "# Suppression de la colonne 'B'\n",
        "df_modifie.drop(columns='B', inplace=True)\n",
        "\n",
        "# Affichage du DataFrame modifié\n",
        "print(\"\\nDataFrame Modifié :\")\n",
        "print(df_modifie)\n"
      ]
    },
    {
      "cell_type": "markdown",
      "id": "abb42794-4591-4294-8d67-feffa59c643b",
      "metadata": {
        "id": "abb42794-4591-4294-8d67-feffa59c643b"
      },
      "source": [
        "Exercice 3 : DataFrame Indexing and Selection"
      ]
    },
    {
      "cell_type": "code",
      "execution_count": null,
      "id": "7838bd77-26d1-4d25-8aea-31374734937a",
      "metadata": {
        "colab": {
          "base_uri": "https://localhost:8080/"
        },
        "id": "7838bd77-26d1-4d25-8aea-31374734937a",
        "outputId": "9368b3a2-52dc-4f53-9108-0b6d419f1f12"
      },
      "outputs": [
        {
          "output_type": "stream",
          "name": "stdout",
          "text": [
            "Sélection de la colonne B:\n",
            "0    2\n",
            "1    5\n",
            "2    8\n",
            "Name: B, dtype: int64\n",
            "\n",
            "Sélection des colonnes A et C:\n",
            "   A  C\n",
            "0  1  3\n",
            "1  4  6\n",
            "2  7  9\n",
            "\n",
            "Sélection de la ligne avec index 1:\n",
            "A    4\n",
            "B    5\n",
            "C    6\n",
            "Name: 1, dtype: int64\n"
          ]
        }
      ],
      "source": [
        "import pandas as pd\n",
        "\n",
        "# Création du DataFrame à partir d'un dictionnaire\n",
        "df_exo3 = pd.DataFrame({\n",
        "    'A': [1, 4, 7],\n",
        "    'B': [2, 5, 8],\n",
        "    'C': [3, 6, 9]\n",
        "})\n",
        "\n",
        "# Sélection de la colonne 'B'\n",
        "col_B = df_exo3['B']\n",
        "\n",
        "# Sélection des colonnes 'A' et 'C'\n",
        "cols_A_C = df_exo3[['A', 'C']]\n",
        "\n",
        "# Sélection de la ligne avec index 1\n",
        "row_index_1 = df_exo3.loc[1]\n",
        "\n",
        "print(\"Sélection de la colonne B:\")\n",
        "print(col_B)\n",
        "\n",
        "print(\"\\nSélection des colonnes A et C:\")\n",
        "print(cols_A_C)\n",
        "\n",
        "print(\"\\nSélection de la ligne avec index 1:\")\n",
        "print(row_index_1)\n"
      ]
    },
    {
      "cell_type": "code",
      "execution_count": null,
      "id": "ddb0c42a-a8f6-4cb6-b916-96b9d47b1d5b",
      "metadata": {
        "id": "ddb0c42a-a8f6-4cb6-b916-96b9d47b1d5b"
      },
      "outputs": [],
      "source": []
    },
    {
      "cell_type": "markdown",
      "source": [
        "**Exercice 4 : Adding and Removing DataFrame Elements**"
      ],
      "metadata": {
        "id": "BsxVw8wXRBKa"
      },
      "id": "BsxVw8wXRBKa"
    },
    {
      "cell_type": "code",
      "source": [
        "import pandas as pd\n",
        "from numpy.random import randn\n",
        "\n",
        "# Création du DataFrame\n",
        "df_exo4 = pd.DataFrame({\n",
        "    'A': [1, 4, 7],\n",
        "    'B': [2, 5, 8],\n",
        "    'C': [3, 6, 9]\n",
        "})\n",
        "\n",
        "# Ajout de la colonne 'Sum' (somme des colonnes A, B et C)\n",
        "df_exo4['Sum'] = df_exo4['A'] + df_exo4['B'] + df_exo4['C']\n",
        "print(\"\\nDataFrame avec la colonne 'Sum'\")\n",
        "print(df_exo4)\n",
        "\n",
        "# Suppression de la colonne sum\n",
        "df_exo4.drop(columns='Sum', inplace=True)\n",
        "print(\"\\nDataFrame apres la suppression de la colonne 'Sum'\")\n",
        "print(df_exo4)\n",
        "\n",
        "# Ajout d'une colonne 'Random' avec des nombres aléatoires\n",
        "df_exo4['Random'] = randn(3)\n",
        "\n",
        "print(\"\\nDataFrame avec la colonne 'Random'\")\n",
        "print(df_exo4)\n"
      ],
      "metadata": {
        "colab": {
          "base_uri": "https://localhost:8080/"
        },
        "id": "C_2xFrLyRWGa",
        "outputId": "46a1e9d1-934d-44cd-a9c1-7f67fc058b89"
      },
      "id": "C_2xFrLyRWGa",
      "execution_count": null,
      "outputs": [
        {
          "output_type": "stream",
          "name": "stdout",
          "text": [
            "\n",
            "DataFrame avec la colonne 'Sum'\n",
            "   A  B  C  Sum\n",
            "0  1  2  3    6\n",
            "1  4  5  6   15\n",
            "2  7  8  9   24\n",
            "\n",
            "DataFrame apres la suppression de la colonne 'Sum'\n",
            "   A  B  C\n",
            "0  1  2  3\n",
            "1  4  5  6\n",
            "2  7  8  9\n",
            "\n",
            "DataFrame avec la colonne 'Random'\n",
            "   A  B  C    Random\n",
            "0  1  2  3  0.490229\n",
            "1  4  5  6 -0.687202\n",
            "2  7  8  9  0.401218\n"
          ]
        }
      ]
    },
    {
      "cell_type": "markdown",
      "source": [
        "**Exercice 5 : Merging DataFrames**"
      ],
      "metadata": {
        "id": "IkWpl0XOU-rw"
      },
      "id": "IkWpl0XOU-rw"
    },
    {
      "cell_type": "code",
      "source": [
        "import pandas as pd\n",
        "\n",
        "# Création du DataFrame 'left'\n",
        "left = pd.DataFrame({\n",
        "    'key': [1, 2, 3],\n",
        "    'A': ['A1', 'A2', 'A3'],\n",
        "    'B': ['B1', 'B2', 'B3']\n",
        "})\n",
        "\n",
        "# Création du DataFrame 'right'\n",
        "right = pd.DataFrame({\n",
        "    'key': [1, 2, 3],\n",
        "    'C': ['C1', 'C2', 'C3'],\n",
        "    'D': ['D1', 'D2', 'D3']\n",
        "})\n",
        "\n",
        "# Fusion avec un inner join\n",
        "merged_inner = pd.merge(left, right, how='inner', on='key')\n",
        "print(\"\\nFusion avec Inner Join:\")\n",
        "print(merged_inner)\n",
        "\n",
        "# Modification pour un outer join\n",
        "merged_outer = pd.merge(left, right, how='outer', on='key')\n",
        "print(\"\\nFusion avec Outer Join:\")\n",
        "print(merged_outer)\n",
        "\n",
        "# Ajout d'une nouvelle colonne E au DataFrame right\n",
        "right['E'] = ['E1', 'E2', 'E3']\n",
        "\n",
        "# Mise à jour la fusion pour inclure la nouvelle colonne E\n",
        "merged_with_E = pd.merge(left, right, how='outer', on='key')\n",
        "print(\"\\nFusion avec Outer Join + Nouvelle Colonne E:\")\n",
        "print(merged_with_E)\n"
      ],
      "metadata": {
        "colab": {
          "base_uri": "https://localhost:8080/"
        },
        "id": "dSAqtYygU_jy",
        "outputId": "5b279f0a-7caa-44c6-8ff5-cbc8b12b6982"
      },
      "id": "dSAqtYygU_jy",
      "execution_count": null,
      "outputs": [
        {
          "output_type": "stream",
          "name": "stdout",
          "text": [
            "\n",
            "Fusion avec Inner Join:\n",
            "   key   A   B   C   D\n",
            "0    1  A1  B1  C1  D1\n",
            "1    2  A2  B2  C2  D2\n",
            "2    3  A3  B3  C3  D3\n",
            "\n",
            "Fusion avec Outer Join:\n",
            "   key   A   B   C   D\n",
            "0    1  A1  B1  C1  D1\n",
            "1    2  A2  B2  C2  D2\n",
            "2    3  A3  B3  C3  D3\n",
            "\n",
            "Fusion avec Outer Join + Nouvelle Colonne E:\n",
            "   key   A   B   C   D   E\n",
            "0    1  A1  B1  C1  D1  E1\n",
            "1    2  A2  B2  C2  D2  E2\n",
            "2    3  A3  B3  C3  D3  E3\n"
          ]
        }
      ]
    },
    {
      "cell_type": "markdown",
      "source": [
        "\n",
        "**Exercice 6 : Data Cleaning**"
      ],
      "metadata": {
        "id": "OTDBKmnhaMTu"
      },
      "id": "OTDBKmnhaMTu"
    },
    {
      "cell_type": "code",
      "source": [
        "import pandas as pd\n",
        "import numpy as np\n",
        "\n",
        "# Création du DataFrame avec des valeurs nan\n",
        "df_exo6 = pd.DataFrame({\n",
        "    'A': [1.0, np.nan, 7.0],\n",
        "    'B': [np.nan, 5.0, 8.0],\n",
        "    'C': [3.0, 6.0, np.nan]\n",
        "})\n",
        "\n",
        "#Remplacement des nan valeurs  par 0\n",
        "df_replace_0 = df_exo6.fillna(0)\n",
        "print(\"\\nDataFrame avec nan remplacés par 0:\")\n",
        "print(df_replace_0)\n",
        "\n",
        "#Remplacement des valeurs NaN par la moyenne de la colonne\n",
        "df_replace_mean = df_exo6.fillna(df_exo6.mean())\n",
        "print(\"\\nDataFrame avec NaN remplacés par la moyenne de chaque colonne:\")\n",
        "print(df_replace_mean)\n",
        "\n",
        "#Suppression des lignes qui contien au moins une valeur nan\n",
        "df_drop_na = df_exo6.dropna()\n",
        "print(\"\\nDataFrame après suppression des lignes contenant des NaN:\")\n",
        "print(df_drop_na)\n"
      ],
      "metadata": {
        "colab": {
          "base_uri": "https://localhost:8080/"
        },
        "id": "Ij3qIaRYa6aF",
        "outputId": "d17882da-fc35-40eb-b8e4-a04ed7dd7e0d"
      },
      "id": "Ij3qIaRYa6aF",
      "execution_count": null,
      "outputs": [
        {
          "output_type": "stream",
          "name": "stdout",
          "text": [
            "\n",
            "DataFrame avec nan remplacés par 0:\n",
            "     A    B    C\n",
            "0  1.0  0.0  3.0\n",
            "1  0.0  5.0  6.0\n",
            "2  7.0  8.0  0.0\n",
            "\n",
            "DataFrame avec NaN remplacés par la moyenne de chaque colonne:\n",
            "     A    B    C\n",
            "0  1.0  6.5  3.0\n",
            "1  4.0  5.0  6.0\n",
            "2  7.0  8.0  4.5\n",
            "\n",
            "DataFrame après suppression des lignes contenant des NaN:\n",
            "Empty DataFrame\n",
            "Columns: [A, B, C]\n",
            "Index: []\n"
          ]
        }
      ]
    },
    {
      "cell_type": "markdown",
      "source": [
        "**Exercice 7 : Grouping and Aggregation**"
      ],
      "metadata": {
        "id": "2J-dUXmQc79e"
      },
      "id": "2J-dUXmQc79e"
    },
    {
      "cell_type": "code",
      "source": [
        "import pandas as pd\n",
        "\n",
        "# Création du DataFrame\n",
        "df_exo7 = pd.DataFrame({\n",
        "    'Category': ['A', 'B', 'A', 'B', 'A', 'B'],\n",
        "    'Value': [1, 2, 3, 4, 5, 6]\n",
        "})\n",
        "print(\"DataFrame initial:\")\n",
        "print(df_exo7)\n",
        "#Groupement par 'Category' et calcul de la moyenne\n",
        "df_mean = df_exo7.groupby('Category').mean()\n",
        "print(\"\\nMoyenne par catégorie:\")\n",
        "print(df_mean)\n",
        "\n",
        "# Modification pour calculer la somme au lieu de la moyenne\n",
        "df_sum = df_exo7.groupby('Category').sum()\n",
        "print(\"\\nSomme par catégorie:\")\n",
        "print(df_sum)\n",
        "\n",
        "#Groupement par 'Category' et comptage du nombre d'entrées dans chaque groupe\n",
        "df_count = df_exo7.groupby('Category').count()\n",
        "print(\"\\nNombre d'entrées par catégorie:\")\n",
        "print(df_count)\n"
      ],
      "metadata": {
        "colab": {
          "base_uri": "https://localhost:8080/"
        },
        "id": "sXrfWFtqdUVr",
        "outputId": "fdecdb91-6579-4282-8486-75438f2698a3"
      },
      "id": "sXrfWFtqdUVr",
      "execution_count": null,
      "outputs": [
        {
          "output_type": "stream",
          "name": "stdout",
          "text": [
            "DataFrame initial:\n",
            "  Category  Value\n",
            "0        A      1\n",
            "1        B      2\n",
            "2        A      3\n",
            "3        B      4\n",
            "4        A      5\n",
            "5        B      6\n",
            "\n",
            "Moyenne par catégorie:\n",
            "          Value\n",
            "Category       \n",
            "A           3.0\n",
            "B           4.0\n",
            "\n",
            "Somme par catégorie:\n",
            "          Value\n",
            "Category       \n",
            "A             9\n",
            "B            12\n",
            "\n",
            "Nombre d'entrées par catégorie:\n",
            "          Value\n",
            "Category       \n",
            "A             3\n",
            "B             3\n"
          ]
        }
      ]
    },
    {
      "cell_type": "markdown",
      "source": [
        "**Exercice 8 : Pivot Tables**\n"
      ],
      "metadata": {
        "id": "eP0LIBm7gysV"
      },
      "id": "eP0LIBm7gysV"
    },
    {
      "cell_type": "code",
      "source": [
        "import pandas as pd\n",
        "\n",
        "# Création du DataFrame initial\n",
        "df_exo8 = pd.DataFrame({\n",
        "    'Category': ['A', 'A', 'A', 'B', 'B', 'B'],\n",
        "    'Type': ['X', 'Y', 'X', 'Y', 'X', 'Y'],\n",
        "    'Value': [1, 2, 3, 4, 5, 6]\n",
        "})\n",
        "\n",
        "print(\"\\nDataFrame Initial :\")\n",
        "print(df_exo8)\n",
        "\n",
        "# Création d'un pivot table affichant la moyenne de 'Value' pour chaque 'Category' et 'Type'\n",
        "pivot_mean = pd.pivot_table(df_exo8, values='Value', index='Category', columns='Type', aggfunc='mean')\n",
        "print(\"\\nPivot Table - Moyenne :\")\n",
        "print(pivot_mean)\n",
        "\n",
        "# Modification du pivot table pour afficher la somme au lieu de la moyenne\n",
        "pivot_sum = pd.pivot_table(df_exo8, values='Value', index='Category', columns='Type', aggfunc='sum')\n",
        "print(\"\\nPivot Table - Somme :\")\n",
        "print(pivot_sum)\n",
        "\n",
        "# Ajout de marges pour afficher les totaux avec la somme\n",
        "pivot_with_margins_sum = pd.pivot_table(df_exo8, values='Value', index='Category', columns='Type', aggfunc='sum', margins=True)\n",
        "print(\"\\nPivot Table - Somme avec Marges :\")\n",
        "print(pivot_with_margins_sum)\n"
      ],
      "metadata": {
        "colab": {
          "base_uri": "https://localhost:8080/"
        },
        "id": "cmfxXcrMhqwP",
        "outputId": "c4c6430d-67db-4092-b5ca-77bb31c5329d"
      },
      "id": "cmfxXcrMhqwP",
      "execution_count": null,
      "outputs": [
        {
          "output_type": "stream",
          "name": "stdout",
          "text": [
            "\n",
            "DataFrame Initial :\n",
            "  Category Type  Value\n",
            "0        A    X      1\n",
            "1        A    Y      2\n",
            "2        A    X      3\n",
            "3        B    Y      4\n",
            "4        B    X      5\n",
            "5        B    Y      6\n",
            "\n",
            "Pivot Table - Moyenne :\n",
            "Type        X    Y\n",
            "Category          \n",
            "A         2.0  2.0\n",
            "B         5.0  5.0\n",
            "\n",
            "Pivot Table - Somme :\n",
            "Type      X   Y\n",
            "Category       \n",
            "A         4   2\n",
            "B         5  10\n",
            "\n",
            "Pivot Table - Somme avec Marges :\n",
            "Type      X   Y  All\n",
            "Category            \n",
            "A         4   2    6\n",
            "B         5  10   15\n",
            "All       9  12   21\n"
          ]
        }
      ]
    },
    {
      "cell_type": "markdown",
      "source": [],
      "metadata": {
        "id": "aXWjeODgkozk"
      },
      "id": "aXWjeODgkozk"
    },
    {
      "cell_type": "markdown",
      "source": [
        "**Exercice 9 : Time Series Data**"
      ],
      "metadata": {
        "id": "VG7iH_HFkqGB"
      },
      "id": "VG7iH_HFkqGB"
    },
    {
      "cell_type": "code",
      "source": [
        "import pandas as pd\n",
        "import numpy as np\n",
        "\n",
        "#Création d'un DataFrame de série temporelle avec une plage de dates\n",
        "date_range = pd.date_range(start='2023-01-01', periods=6, freq='D')\n",
        "\n",
        "# Génération de valeurs aléatoires pour la série temporelle\n",
        "values = np.random.randn(6)\n",
        "\n",
        "df_exo9 = pd.DataFrame({'Date': date_range, 'Value': values})\n",
        "\n",
        "print(\"\\nDataFrame Série Temporelle :\")\n",
        "print(df_exo9)\n",
        "\n",
        "#Définition de la colonne 'Date' comme index\n",
        "df_exo9.set_index('Date', inplace=True)\n",
        "\n",
        "#Resampling des données pour calculer la somme sur des périodes de 2 jours\n",
        "df_resampled = df_exo9.resample('2D').sum()\n",
        "print(\"\\nDataFrame Resamplé (Somme sur 2 jours) :\")\n",
        "print(df_resampled)\n"
      ],
      "metadata": {
        "colab": {
          "base_uri": "https://localhost:8080/"
        },
        "id": "0G666uS-ktUA",
        "outputId": "8cc4205b-9eca-49c5-a495-7e360a183b96"
      },
      "id": "0G666uS-ktUA",
      "execution_count": null,
      "outputs": [
        {
          "output_type": "stream",
          "name": "stdout",
          "text": [
            "\n",
            "DataFrame Série Temporelle :\n",
            "        Date     Value\n",
            "0 2023-01-01 -0.345306\n",
            "1 2023-01-02 -0.853429\n",
            "2 2023-01-03  0.036617\n",
            "3 2023-01-04  0.922456\n",
            "4 2023-01-05  1.126150\n",
            "5 2023-01-06 -0.272407\n",
            "\n",
            "DataFrame Resamplé (Somme sur 2 jours) :\n",
            "               Value\n",
            "Date                \n",
            "2023-01-01 -1.198736\n",
            "2023-01-03  0.959073\n",
            "2023-01-05  0.853743\n"
          ]
        }
      ]
    },
    {
      "cell_type": "markdown",
      "source": [
        "**Exercice 10 : Handling Missing Data**"
      ],
      "metadata": {
        "id": "BCXhu6yknii2"
      },
      "id": "BCXhu6yknii2"
    },
    {
      "cell_type": "code",
      "source": [
        "import pandas as pd\n",
        "import numpy as np\n",
        "\n",
        "# Création du DataFrame avec des valeurs NaN\n",
        "df_exo10 = pd.DataFrame({\n",
        "    'A': [1.0, 2.0, np.nan],\n",
        "    'B': [np.nan, 5.0, 8.0],\n",
        "    'C': [3.0, np.nan, 9.0]\n",
        "})\n",
        "\n",
        "# Suppression des lignes contenant au moins une valeur NaN sur le DataFrame initial\n",
        "df_drop_na_initial = df_exo10.dropna()\n",
        "\n",
        "# Interpolation complète dans les deux directions\n",
        "df_interpolated = df_exo10.interpolate(limit_direction='both')\n",
        "\n",
        "# Suppression des lignes contenant au moins une valeur NaN sur le DataFrame interpolé\n",
        "df_drop_na_interpolated = df_interpolated.dropna()\n",
        "\n",
        "# Affichage des DataFrames\n",
        "print(\"\\nDataFrame Initial:\")\n",
        "print(df_exo10)\n",
        "\n",
        "print(\"\\nDataFrame après suppression des NaN (Initial):\")\n",
        "print(df_drop_na_initial)\n",
        "\n",
        "print(\"\\nDataFrame après interpolation:\")\n",
        "print(df_interpolated)\n",
        "\n",
        "print(\"\\nDataFrame après suppression des NaN (Après Interpolation):\")\n",
        "print(df_drop_na_interpolated)\n"
      ],
      "metadata": {
        "colab": {
          "base_uri": "https://localhost:8080/"
        },
        "id": "WLdcrdOO5dct",
        "outputId": "fd537ce4-fab5-4d09-f573-9c94139de10e"
      },
      "id": "WLdcrdOO5dct",
      "execution_count": 1,
      "outputs": [
        {
          "output_type": "stream",
          "name": "stdout",
          "text": [
            "\n",
            "DataFrame Initial:\n",
            "     A    B    C\n",
            "0  1.0  NaN  3.0\n",
            "1  2.0  5.0  NaN\n",
            "2  NaN  8.0  9.0\n",
            "\n",
            "DataFrame après suppression des NaN (Initial):\n",
            "Empty DataFrame\n",
            "Columns: [A, B, C]\n",
            "Index: []\n",
            "\n",
            "DataFrame après interpolation:\n",
            "     A    B    C\n",
            "0  1.0  5.0  3.0\n",
            "1  2.0  5.0  6.0\n",
            "2  2.0  8.0  9.0\n",
            "\n",
            "DataFrame après suppression des NaN (Après Interpolation):\n",
            "     A    B    C\n",
            "0  1.0  5.0  3.0\n",
            "1  2.0  5.0  6.0\n",
            "2  2.0  8.0  9.0\n"
          ]
        }
      ]
    },
    {
      "cell_type": "markdown",
      "source": [
        "**Exercice 11 : DataFrame Operations**"
      ],
      "metadata": {
        "id": "GUthdKTk6fRJ"
      },
      "id": "GUthdKTk6fRJ"
    },
    {
      "cell_type": "code",
      "source": [
        "import pandas as pd\n",
        "\n",
        "# Création du DataFrame initial\n",
        "df_exo11 = pd.DataFrame({\n",
        "    'A': [1, 4, 7],\n",
        "    'B': [2, 5, 8],\n",
        "    'C': [3, 6, 9]\n",
        "})\n",
        "\n",
        "# Affichage du DataFrame initial\n",
        "print(\"\\nDataFrame Initial :\")\n",
        "print(df_exo11)\n",
        "\n",
        "# Calcul de la somme cumulative\n",
        "df_cumsum = df_exo11.cumsum()\n",
        "print(\"\\nDataFrame - Somme Cumulative :\")\n",
        "print(df_cumsum)\n",
        "\n",
        "# Calcul du produit cumulatif\n",
        "df_cumprod = df_exo11.cumprod()\n",
        "print(\"\\nDataFrame - Produit Cumulatif :\")\n",
        "print(df_cumprod)\n",
        "\n",
        "# Application d'une fonction pour soustraire 1 à chaque élément (correction du warning)\n",
        "df_subtract_one = df_exo11.map(lambda x: x - 1)\n",
        "print(\"\\nDataFrame - Soustraction de 1 :\")\n",
        "print(df_subtract_one)\n"
      ],
      "metadata": {
        "colab": {
          "base_uri": "https://localhost:8080/"
        },
        "id": "G9OXBKm06dAs",
        "outputId": "d87ee18c-dde2-4966-a0a7-86062b19977c"
      },
      "id": "G9OXBKm06dAs",
      "execution_count": 4,
      "outputs": [
        {
          "output_type": "stream",
          "name": "stdout",
          "text": [
            "\n",
            "DataFrame Initial :\n",
            "   A  B  C\n",
            "0  1  2  3\n",
            "1  4  5  6\n",
            "2  7  8  9\n",
            "\n",
            "DataFrame - Somme Cumulative :\n",
            "    A   B   C\n",
            "0   1   2   3\n",
            "1   5   7   9\n",
            "2  12  15  18\n",
            "\n",
            "DataFrame - Produit Cumulatif :\n",
            "    A   B    C\n",
            "0   1   2    3\n",
            "1   4  10   18\n",
            "2  28  80  162\n",
            "\n",
            "DataFrame - Soustraction de 1 :\n",
            "   A  B  C\n",
            "0  0  1  2\n",
            "1  3  4  5\n",
            "2  6  7  8\n"
          ]
        }
      ]
    },
    {
      "cell_type": "code",
      "source": [],
      "metadata": {
        "id": "1xTLi1gM69GA"
      },
      "id": "1xTLi1gM69GA",
      "execution_count": null,
      "outputs": []
    }
  ],
  "metadata": {
    "kernelspec": {
      "display_name": "Python 3 (ipykernel)",
      "language": "python",
      "name": "python3"
    },
    "language_info": {
      "codemirror_mode": {
        "name": "ipython",
        "version": 3
      },
      "file_extension": ".py",
      "mimetype": "text/x-python",
      "name": "python",
      "nbconvert_exporter": "python",
      "pygments_lexer": "ipython3",
      "version": "3.13.1"
    },
    "colab": {
      "provenance": [],
      "include_colab_link": true
    }
  },
  "nbformat": 4,
  "nbformat_minor": 5
}